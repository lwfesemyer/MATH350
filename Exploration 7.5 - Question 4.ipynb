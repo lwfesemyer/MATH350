{
 "cells": [
  {
   "cell_type": "code",
   "execution_count": 45,
   "id": "b9741d1c",
   "metadata": {},
   "outputs": [],
   "source": [
    "import numpy as np\n",
    "\n",
    "numsteps = 10\n",
    "stepwidth = 0.1\n",
    "t = np.linspace(0, numsteps * stepwidth, numsteps + 1)\n",
    "x = [1]\n",
    "\n",
    "for i in range(numsteps):\n",
    "    \n",
    "    mk = np.e**t[i]\n",
    "\n",
    "    x.append(x[-1] + stepwidth * mk)\n",
    "\n",
    "erroreuler1a = np.abs(np.e**1-x[-1])"
   ]
  },
  {
   "cell_type": "code",
   "execution_count": 46,
   "id": "2473b42a",
   "metadata": {},
   "outputs": [],
   "source": [
    "numsteps = 20\n",
    "stepwidth = 0.05\n",
    "t = np.linspace(0, numsteps * stepwidth, numsteps + 1)\n",
    "x = [1]\n",
    "\n",
    "for i in range(numsteps):\n",
    "    \n",
    "    mk = np.e**t[i]\n",
    "\n",
    "    x.append(x[-1] + stepwidth * mk)\n",
    "    \n",
    "erroreuler2a = np.abs(np.e**1-x[-1])"
   ]
  },
  {
   "cell_type": "code",
   "execution_count": 47,
   "id": "9bcfb123",
   "metadata": {},
   "outputs": [],
   "source": [
    "numsteps = 100\n",
    "stepwidth = 0.01\n",
    "t = np.linspace(0, numsteps * stepwidth, numsteps + 1)\n",
    "x = [1]\n",
    "\n",
    "for i in range(numsteps):\n",
    "    \n",
    "    mk = np.e**t[i]\n",
    "\n",
    "    x.append(x[-1] + stepwidth * mk)\n",
    "    \n",
    "erroreuler3a = np.abs(np.e**1-x[-1])"
   ]
  },
  {
   "cell_type": "code",
   "execution_count": 48,
   "id": "6a27d706",
   "metadata": {},
   "outputs": [],
   "source": [
    "numsteps = 10\n",
    "stepwidth = 0.1\n",
    "t = np.linspace(0, numsteps * stepwidth, numsteps + 1)\n",
    "x = [1]\n",
    "\n",
    "for i in range(numsteps):\n",
    "    \n",
    "    mk = np.e**t[i]\n",
    "    nk = np.e**(t[i] + stepwidth)\n",
    "\n",
    "    x.append(x[-1] + stepwidth * (mk + nk) / 2)\n",
    "\n",
    "errorimprovedeuler1a = np.abs(np.e**1-x[-1])"
   ]
  },
  {
   "cell_type": "code",
   "execution_count": 49,
   "id": "00feecc5",
   "metadata": {},
   "outputs": [],
   "source": [
    "numsteps = 20\n",
    "stepwidth = 0.05\n",
    "t = np.linspace(0, numsteps * stepwidth, numsteps + 1)\n",
    "x = [1]\n",
    "\n",
    "for i in range(numsteps):\n",
    "    \n",
    "    mk = np.e**t[i]\n",
    "    nk = np.e**(t[i] + stepwidth)\n",
    "\n",
    "    x.append(x[-1] + stepwidth * (mk + nk) / 2)\n",
    "    \n",
    "errorimprovedeuler2a = np.abs(np.e**1-x[-1])"
   ]
  },
  {
   "cell_type": "code",
   "execution_count": 50,
   "id": "75e49232",
   "metadata": {},
   "outputs": [],
   "source": [
    "numsteps = 100\n",
    "stepwidth = 0.01\n",
    "t = np.linspace(0, numsteps * stepwidth, numsteps + 1)\n",
    "x = [1]\n",
    "\n",
    "for i in range(numsteps):\n",
    "    \n",
    "    mk = np.e**t[i]\n",
    "    nk = np.e**(t[i] + stepwidth)\n",
    "\n",
    "    x.append(x[-1] + stepwidth * (mk + nk) / 2)\n",
    "\n",
    "errorimprovedeuler3a = np.abs(np.e**1-x[-1])"
   ]
  },
  {
   "cell_type": "code",
   "execution_count": 51,
   "id": "e64b3ba6",
   "metadata": {},
   "outputs": [],
   "source": [
    "numsteps = 10\n",
    "stepwidth = 0.1\n",
    "t = np.linspace(0, numsteps * stepwidth, numsteps + 1)\n",
    "x = [1]\n",
    "\n",
    "for i in range(numsteps):\n",
    "    \n",
    "    mk = np.e**t[i]\n",
    "    nk = np.e**(t[i] + stepwidth / 2)\n",
    "    pk = np.e**(t[i] + stepwidth / 2)\n",
    "    qk = np.e**(t[i] + stepwidth)\n",
    "\n",
    "    x.append(x[-1] + stepwidth * (mk + 2 * nk + 2 * pk + qk) / 6)\n",
    "\n",
    "errorrungekatta1a = np.abs(np.e**1-x[-1])"
   ]
  },
  {
   "cell_type": "code",
   "execution_count": 52,
   "id": "c2baa114",
   "metadata": {},
   "outputs": [],
   "source": [
    "numsteps = 20\n",
    "stepwidth = 0.05\n",
    "t = np.linspace(0, numsteps * stepwidth, numsteps + 1)\n",
    "x = [1]\n",
    "\n",
    "for i in range(numsteps):\n",
    "    \n",
    "    mk = np.e**t[i]\n",
    "    nk = np.e**(t[i] + stepwidth / 2)\n",
    "    pk = np.e**(t[i] + stepwidth / 2)\n",
    "    qk = np.e**(t[i] + stepwidth)\n",
    "\n",
    "    x.append(x[-1] + stepwidth * (mk + 2 * nk + 2 * pk + qk) / 6)\n",
    "\n",
    "errorrungekatta2a = np.abs(np.e**1-x[-1])"
   ]
  },
  {
   "cell_type": "code",
   "execution_count": 53,
   "id": "0643b720",
   "metadata": {},
   "outputs": [],
   "source": [
    "numsteps = 100\n",
    "stepwidth = 0.01\n",
    "t = np.linspace(0, numsteps * stepwidth, numsteps + 1)\n",
    "x = [1]\n",
    "\n",
    "for i in range(numsteps):\n",
    "    \n",
    "    mk = np.e**t[i]\n",
    "    nk = np.e**(t[i] + stepwidth / 2)\n",
    "    pk = np.e**(t[i] + stepwidth / 2)\n",
    "    qk = np.e**(t[i] + stepwidth)\n",
    "\n",
    "    x.append(x[-1] + stepwidth * (mk + 2 * nk + 2 * pk + qk) / 6)\n",
    "\n",
    "errorrungekatta3a = np.abs(np.e**1-x[-1])"
   ]
  },
  {
   "cell_type": "code",
   "execution_count": 54,
   "id": "bbdb6755",
   "metadata": {},
   "outputs": [],
   "source": [
    "numsteps = 10\n",
    "stepwidth = 0.1\n",
    "t = np.linspace(0, numsteps * stepwidth, numsteps + 1)\n",
    "x = [0]\n",
    "\n",
    "\n",
    "for i in range(numsteps):\n",
    "    \n",
    "    mk = 2*t[i]*(1+x[-1]**2)\n",
    "\n",
    "    x.append(x[-1] + stepwidth * mk)\n",
    "    \n",
    "erroreuler1b = np.abs(np.tan(1**2)-x[-1])"
   ]
  },
  {
   "cell_type": "code",
   "execution_count": 55,
   "id": "9dce2e3c",
   "metadata": {},
   "outputs": [],
   "source": [
    "numsteps = 20\n",
    "stepwidth = 0.05\n",
    "t = np.linspace(0, numsteps * stepwidth, numsteps + 1)\n",
    "x = [0]\n",
    "\n",
    "\n",
    "for i in range(numsteps):\n",
    "    \n",
    "    mk = 2*t[i]*(1+x[-1]**2)\n",
    "\n",
    "    x.append(x[-1] + stepwidth * mk)\n",
    "    \n",
    "erroreuler2b = np.abs(np.tan(1**2)-x[-1])"
   ]
  },
  {
   "cell_type": "code",
   "execution_count": 56,
   "id": "519ce4df",
   "metadata": {},
   "outputs": [],
   "source": [
    "numsteps = 100\n",
    "stepwidth = 0.01\n",
    "t = np.linspace(0, numsteps * stepwidth, numsteps + 1)\n",
    "x = [0]\n",
    "\n",
    "\n",
    "for i in range(numsteps):\n",
    "    \n",
    "    mk = 2*t[i]*(1+x[-1]**2)\n",
    "\n",
    "    x.append(x[-1] + stepwidth * mk)\n",
    "    \n",
    "erroreuler3b = np.abs(np.tan(1**2)-x[-1])"
   ]
  },
  {
   "cell_type": "code",
   "execution_count": 57,
   "id": "f15c01ff",
   "metadata": {},
   "outputs": [],
   "source": [
    "numsteps = 10\n",
    "stepwidth = 0.1\n",
    "t = np.linspace(0, numsteps * stepwidth, numsteps + 1)\n",
    "x = [0]\n",
    "\n",
    "for i in range(numsteps):\n",
    "    \n",
    "    mk = 2*t[i]*(1+x[-1]**2)\n",
    "    nk = 2*(t[i] + stepwidth)*(1+(x[-1] + stepwidth * mk)**2)\n",
    "\n",
    "    x.append(x[-1] + stepwidth * (mk + nk) / 2)\n",
    "    \n",
    "errorimprovedeuler1b = np.abs(np.tan(1**2)-x[-1])"
   ]
  },
  {
   "cell_type": "code",
   "execution_count": 58,
   "id": "b097693c",
   "metadata": {},
   "outputs": [],
   "source": [
    "numsteps = 20\n",
    "stepwidth = 0.05\n",
    "t = np.linspace(0, numsteps * stepwidth, numsteps + 1)\n",
    "x = [0]\n",
    "\n",
    "for i in range(numsteps):\n",
    "    \n",
    "    mk = 2*t[i]*(1+x[-1]**2)\n",
    "    nk = 2*(t[i] + stepwidth)*(1+(x[-1] + stepwidth * mk)**2)\n",
    "\n",
    "    x.append(x[-1] + stepwidth * (mk + nk) / 2)\n",
    "    \n",
    "errorimprovedeuler2b = np.abs(np.tan(1**2)-x[-1])"
   ]
  },
  {
   "cell_type": "code",
   "execution_count": 59,
   "id": "c55e50bf",
   "metadata": {},
   "outputs": [],
   "source": [
    "numsteps = 100\n",
    "stepwidth = 0.01\n",
    "t = np.linspace(0, numsteps * stepwidth, numsteps + 1)\n",
    "x = [0]\n",
    "\n",
    "for i in range(numsteps):\n",
    "    \n",
    "    mk = 2*t[i]*(1+x[-1]**2)\n",
    "    nk = 2*(t[i] + stepwidth)*(1+(x[-1] + stepwidth * mk)**2)\n",
    "\n",
    "    x.append(x[-1] + stepwidth * (mk + nk) / 2)\n",
    "    \n",
    "errorimprovedeuler3b = np.abs(np.tan(1**2)-x[-1])"
   ]
  },
  {
   "cell_type": "code",
   "execution_count": 60,
   "id": "e82f18ff",
   "metadata": {},
   "outputs": [
    {
     "name": "stdout",
     "output_type": "stream",
     "text": [
      "1.980555104630355e-05\n"
     ]
    }
   ],
   "source": [
    "numsteps = 10\n",
    "stepwidth = 0.1\n",
    "t = np.linspace(0, numsteps * stepwidth, numsteps + 1)\n",
    "x = [0]\n",
    "\n",
    "for i in range(numsteps):\n",
    "    \n",
    "    mk = 2*t[i]*(1+x[-1]**2)\n",
    "    nk = 2*(t[i] + stepwidth / 2)*(1+(x[-1] + stepwidth * mk / 2)**2)\n",
    "    pk = 2*(t[i] + stepwidth / 2)*(1+(x[-1] + stepwidth * nk / 2)**2)\n",
    "    qk = 2*(t[i] + stepwidth)*(1+(x[-1] + stepwidth * pk)**2)\n",
    "\n",
    "    x.append(x[-1] + stepwidth * (mk + 2 * nk + 2 * pk + qk) / 6)\n",
    "    \n",
    "errorrungekatta1b = np.abs(np.tan(1**2)-x[-1])\n",
    "print(errorrungekatta1b)"
   ]
  },
  {
   "cell_type": "code",
   "execution_count": 61,
   "id": "a7a3f823",
   "metadata": {},
   "outputs": [
    {
     "name": "stdout",
     "output_type": "stream",
     "text": [
      "4.772956808896112e-06\n"
     ]
    }
   ],
   "source": [
    "numsteps = 20\n",
    "stepwidth = 0.05\n",
    "t = np.linspace(0, numsteps * stepwidth, numsteps + 1)\n",
    "x = [0]\n",
    "\n",
    "for i in range(numsteps):\n",
    "    \n",
    "    mk = 2*t[i]*(1+x[-1]**2)\n",
    "    nk = 2*(t[i] + stepwidth / 2)*(1+(x[-1] + stepwidth * mk / 2)**2)\n",
    "    pk = 2*(t[i] + stepwidth / 2)*(1+(x[-1] + stepwidth * nk / 2)**2)\n",
    "    qk = 2*(t[i] + stepwidth)*(1+(x[-1] + stepwidth * pk)**2)\n",
    "\n",
    "    x.append(x[-1] + stepwidth * (mk + 2 * nk + 2 * pk + qk) / 6)\n",
    "    \n",
    "errorrungekatta2b = np.abs(np.tan(1**2)-x[-1])\n",
    "print(errorrungekatta2b)"
   ]
  },
  {
   "cell_type": "code",
   "execution_count": 62,
   "id": "426c7fc4",
   "metadata": {},
   "outputs": [],
   "source": [
    "numsteps = 100\n",
    "stepwidth = 0.01\n",
    "t = np.linspace(0, numsteps * stepwidth, numsteps + 1)\n",
    "x = [0]\n",
    "\n",
    "for i in range(numsteps):\n",
    "    \n",
    "    mk = 2*t[i]*(1+x[-1]**2)\n",
    "    nk = 2*(t[i] + stepwidth / 2)*(1+(x[-1] + stepwidth * mk / 2)**2)\n",
    "    pk = 2*(t[i] + stepwidth / 2)*(1+(x[-1] + stepwidth * nk / 2)**2)\n",
    "    qk = 2*(t[i] + stepwidth)*(1+(x[-1] + stepwidth * pk)**2)\n",
    "\n",
    "    x.append(x[-1] + stepwidth * (mk + 2 * nk + 2 * pk + qk) / 6)\n",
    "    \n",
    "errorrungekatta3b = np.abs(np.tan(1**2)-x[-1])"
   ]
  },
  {
   "cell_type": "code",
   "execution_count": 63,
   "id": "30e45da7",
   "metadata": {},
   "outputs": [
    {
     "name": "stdout",
     "output_type": "stream",
     "text": [
      "Question 2 Estimated vs Expected Error Analysis:\n",
      "\n",
      "Euler's method:\n",
      "Estimated ratio from 0.1 to 0.05: 1.9831981838625177\n",
      "Expected ratio from 0.1 to 0.05: 2\n",
      "Estimated ratio from 0.05 to 0.01: 4.966612743451737\n",
      "Expected ratio from 0.05 to 0.01: 5\n",
      "\n",
      "Improved Euler's method:\n",
      "Estimated ratio from 0.1 to 0.05: 3.99950012794596\n",
      "Expected ratio from 0.1 to 0.05: 4\n",
      "Estimated ratio from 0.05 to 0.01: 24.99900006103875\n",
      "Expected ratio from 0.05 to 0.01: 25\n",
      "\n",
      "Runge-Katta Method:\n",
      "Estimated ratio from 0.1 to 0.05: 15.99642871392611\n",
      "Expected ratio from 0.1 to 0.05: 16\n",
      "Estimated ratio from 0.05 to 0.01: 624.9914396307876\n",
      "Expected ratio from 0.05 to 0.01: 625\n"
     ]
    }
   ],
   "source": [
    "print(\"Question 2 Estimated vs Expected Error Analysis:\")\n",
    "print()\n",
    "print(\"Euler's method:\")\n",
    "print(\"Estimated ratio from 0.1 to 0.05:\", erroreuler1a/erroreuler2a)\n",
    "print(\"Expected ratio from 0.1 to 0.05:\", 2**1)\n",
    "print(\"Estimated ratio from 0.05 to 0.01:\", erroreuler2a/erroreuler3a)\n",
    "print(\"Expected ratio from 0.05 to 0.01:\", 5**1)\n",
    "print()\n",
    "print(\"Improved Euler's method:\")\n",
    "print(\"Estimated ratio from 0.1 to 0.05:\", errorimprovedeuler1a/errorimprovedeuler2a)\n",
    "print(\"Expected ratio from 0.1 to 0.05:\", 2**2)\n",
    "print(\"Estimated ratio from 0.05 to 0.01:\", errorimprovedeuler2a/errorimprovedeuler3a)\n",
    "print(\"Expected ratio from 0.05 to 0.01:\", 5**2)\n",
    "print()\n",
    "print(\"Runge-Katta Method:\")\n",
    "print(\"Estimated ratio from 0.1 to 0.05:\", errorrungekatta1a/errorrungekatta2a)\n",
    "print(\"Expected ratio from 0.1 to 0.05:\", 2**4)\n",
    "print(\"Estimated ratio from 0.05 to 0.01:\", errorrungekatta2a/errorrungekatta3a)\n",
    "print(\"Expected ratio from 0.05 to 0.01:\", 5**4)"
   ]
  },
  {
   "cell_type": "code",
   "execution_count": 64,
   "id": "ef407531",
   "metadata": {},
   "outputs": [
    {
     "name": "stdout",
     "output_type": "stream",
     "text": [
      "Question 3 Estimated vs Expected Error Analysis:\n",
      "\n",
      "Euler's method:\n",
      "Estimated ratio from 0.1 to 0.05: 1.6531874083884353\n",
      "Expected ratio from 0.1 to 0.05: 2\n",
      "Estimated ratio from 0.05 to 0.01: 4.07010957021359\n",
      "Expected ratio from 0.05 to 0.01: 5\n",
      "\n",
      "Improved Euler's method:\n",
      "Estimated ratio from 0.1 to 0.05: 3.828405575040773\n",
      "Expected ratio from 0.1 to 0.05: 4\n",
      "Estimated ratio from 0.05 to 0.01: 25.466480315510324\n",
      "Expected ratio from 0.05 to 0.01: 25\n",
      "\n",
      "Runge-Katta Method:\n",
      "Estimated ratio from 0.1 to 0.05: 4.1495349401420984\n",
      "Expected ratio from 0.1 to 0.05: 16\n",
      "Estimated ratio from 0.05 to 0.01: 312.2824950584357\n",
      "Expected ratio from 0.05 to 0.01: 625\n"
     ]
    }
   ],
   "source": [
    "print(\"Question 3 Estimated vs Expected Error Analysis:\")\n",
    "print()\n",
    "print(\"Euler's method:\")\n",
    "print(\"Estimated ratio from 0.1 to 0.05:\", erroreuler1b/erroreuler2b)\n",
    "print(\"Expected ratio from 0.1 to 0.05:\", 2**1)\n",
    "print(\"Estimated ratio from 0.05 to 0.01:\", erroreuler2b/erroreuler3b)\n",
    "print(\"Expected ratio from 0.05 to 0.01:\", 5**1)\n",
    "print()\n",
    "print(\"Improved Euler's method:\")\n",
    "print(\"Estimated ratio from 0.1 to 0.05:\", errorimprovedeuler1b/errorimprovedeuler2b)\n",
    "print(\"Expected ratio from 0.1 to 0.05:\", 2**2)\n",
    "print(\"Estimated ratio from 0.05 to 0.01:\", errorimprovedeuler2b/errorimprovedeuler3b)\n",
    "print(\"Expected ratio from 0.05 to 0.01:\", 5**2)\n",
    "print()\n",
    "print(\"Runge-Katta Method:\")\n",
    "print(\"Estimated ratio from 0.1 to 0.05:\", errorrungekatta1b/errorrungekatta2b)\n",
    "print(\"Expected ratio from 0.1 to 0.05:\", 2**4)\n",
    "print(\"Estimated ratio from 0.05 to 0.01:\", errorrungekatta2b/errorrungekatta3b)\n",
    "print(\"Expected ratio from 0.05 to 0.01:\", 5**4)"
   ]
  }
 ],
 "metadata": {
  "kernelspec": {
   "display_name": "Python 3 (ipykernel)",
   "language": "python",
   "name": "python3"
  },
  "language_info": {
   "codemirror_mode": {
    "name": "ipython",
    "version": 3
   },
   "file_extension": ".py",
   "mimetype": "text/x-python",
   "name": "python",
   "nbconvert_exporter": "python",
   "pygments_lexer": "ipython3",
   "version": "3.11.5"
  }
 },
 "nbformat": 4,
 "nbformat_minor": 5
}
